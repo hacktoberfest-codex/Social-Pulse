{
 "cells": [
  {
   "cell_type": "code",
   "execution_count": 1,
   "id": "fe213044-dcab-4966-b75a-3c761cba858a",
   "metadata": {},
   "outputs": [],
   "source": [
    "import numpy as np\n",
    "import pandas as pd\n",
    "import seaborn as sns\n",
    "import matplotlib.pyplot as plt"
   ]
  },
  {
   "cell_type": "code",
   "execution_count": 2,
   "id": "3cbb7e83-2b25-40c0-9ba1-f45a2e2d1a35",
   "metadata": {},
   "outputs": [],
   "source": [
    "df=pd.read_csv(r\"E:\\DataScience\\sneha-team-sentinels\\Team-38\\ML-model\\ytcomm.csv\")"
   ]
  },
  {
   "cell_type": "code",
   "execution_count": 3,
   "id": "23d55da0-04eb-4f15-8382-095a52dfd057",
   "metadata": {},
   "outputs": [
    {
     "data": {
      "text/plain": [
       "(35057, 5)"
      ]
     },
     "execution_count": 3,
     "metadata": {},
     "output_type": "execute_result"
    }
   ],
   "source": [
    "df.shape"
   ]
  },
  {
   "cell_type": "code",
   "execution_count": 4,
   "id": "c74b5f4d-1169-45d0-a4e5-9b1cbb817e46",
   "metadata": {},
   "outputs": [
    {
     "data": {
      "text/html": [
       "<div>\n",
       "<style scoped>\n",
       "    .dataframe tbody tr th:only-of-type {\n",
       "        vertical-align: middle;\n",
       "    }\n",
       "\n",
       "    .dataframe tbody tr th {\n",
       "        vertical-align: top;\n",
       "    }\n",
       "\n",
       "    .dataframe thead th {\n",
       "        text-align: right;\n",
       "    }\n",
       "</style>\n",
       "<table border=\"1\" class=\"dataframe\">\n",
       "  <thead>\n",
       "    <tr style=\"text-align: right;\">\n",
       "      <th></th>\n",
       "      <th>author</th>\n",
       "      <th>published_at</th>\n",
       "      <th>updated_at</th>\n",
       "      <th>like_count</th>\n",
       "      <th>text</th>\n",
       "    </tr>\n",
       "  </thead>\n",
       "  <tbody>\n",
       "    <tr>\n",
       "      <th>0</th>\n",
       "      <td>Sandeep Maheshwari</td>\n",
       "      <td>2021-07-29T12:45:14Z</td>\n",
       "      <td>2021-07-29T12:45:14Z</td>\n",
       "      <td>35773.0</td>\n",
       "      <td>This video has entered the Guinness World Reco...</td>\n",
       "    </tr>\n",
       "    <tr>\n",
       "      <th>1</th>\n",
       "      <td>Dheeru Kushwaha</td>\n",
       "      <td>2023-09-16T19:06:35Z</td>\n",
       "      <td>2023-09-16T19:06:35Z</td>\n",
       "      <td>0.0</td>\n",
       "      <td>Life changing seminaar❤❤❤</td>\n",
       "    </tr>\n",
       "    <tr>\n",
       "      <th>2</th>\n",
       "      <td>Official Rajput Ankit</td>\n",
       "      <td>2023-09-16T17:59:13Z</td>\n",
       "      <td>2023-09-16T17:59:13Z</td>\n",
       "      <td>1.0</td>\n",
       "      <td>I watch this complete video years 2023 And you...</td>\n",
       "    </tr>\n",
       "    <tr>\n",
       "      <th>3</th>\n",
       "      <td>ABHISHEK P₹INCE 🖤</td>\n",
       "      <td>2023-09-16T17:53:18Z</td>\n",
       "      <td>2023-09-16T17:53:18Z</td>\n",
       "      <td>0.0</td>\n",
       "      <td>Not the last it&amp;#39;s start... ❤</td>\n",
       "    </tr>\n",
       "    <tr>\n",
       "      <th>4</th>\n",
       "      <td>Rishi Bro</td>\n",
       "      <td>2023-09-16T17:42:22Z</td>\n",
       "      <td>2023-09-16T17:42:22Z</td>\n",
       "      <td>0.0</td>\n",
       "      <td>Thank you for this seminar</td>\n",
       "    </tr>\n",
       "    <tr>\n",
       "      <th>...</th>\n",
       "      <td>...</td>\n",
       "      <td>...</td>\n",
       "      <td>...</td>\n",
       "      <td>...</td>\n",
       "      <td>...</td>\n",
       "    </tr>\n",
       "    <tr>\n",
       "      <th>35052</th>\n",
       "      <td>Apoorv Mangla</td>\n",
       "      <td>2012-11-23T18:55:52Z</td>\n",
       "      <td>2012-11-23T18:55:52Z</td>\n",
       "      <td>0.0</td>\n",
       "      <td>kehna aasan hai aur karna, aur bhi aasan hai!!...</td>\n",
       "    </tr>\n",
       "    <tr>\n",
       "      <th>35053</th>\n",
       "      <td>azad raj</td>\n",
       "      <td>2012-11-23T18:55:04Z</td>\n",
       "      <td>2012-11-23T18:55:04Z</td>\n",
       "      <td>0.0</td>\n",
       "      <td>thanx sir\\n</td>\n",
       "    </tr>\n",
       "    <tr>\n",
       "      <th>35054</th>\n",
       "      <td>GAGANDEEP JAKHU</td>\n",
       "      <td>2012-11-23T18:47:19Z</td>\n",
       "      <td>2012-11-23T18:47:19Z</td>\n",
       "      <td>0.0</td>\n",
       "      <td>:)</td>\n",
       "    </tr>\n",
       "    <tr>\n",
       "      <th>35055</th>\n",
       "      <td>tushar tohan</td>\n",
       "      <td>2012-11-23T18:46:49Z</td>\n",
       "      <td>2012-11-23T18:46:49Z</td>\n",
       "      <td>0.0</td>\n",
       "      <td>aasaan hai . thank u for uploading it sir ,</td>\n",
       "    </tr>\n",
       "    <tr>\n",
       "      <th>35056</th>\n",
       "      <td>Amar Goud</td>\n",
       "      <td>2012-11-23T18:46:13Z</td>\n",
       "      <td>2012-11-23T18:46:13Z</td>\n",
       "      <td>0.0</td>\n",
       "      <td>love you sir\\n</td>\n",
       "    </tr>\n",
       "  </tbody>\n",
       "</table>\n",
       "<p>35057 rows × 5 columns</p>\n",
       "</div>"
      ],
      "text/plain": [
       "                      author          published_at            updated_at  \\\n",
       "0         Sandeep Maheshwari  2021-07-29T12:45:14Z  2021-07-29T12:45:14Z   \n",
       "1            Dheeru Kushwaha  2023-09-16T19:06:35Z  2023-09-16T19:06:35Z   \n",
       "2      Official Rajput Ankit  2023-09-16T17:59:13Z  2023-09-16T17:59:13Z   \n",
       "3          ABHISHEK P₹INCE 🖤  2023-09-16T17:53:18Z  2023-09-16T17:53:18Z   \n",
       "4                  Rishi Bro  2023-09-16T17:42:22Z  2023-09-16T17:42:22Z   \n",
       "...                      ...                   ...                   ...   \n",
       "35052          Apoorv Mangla  2012-11-23T18:55:52Z  2012-11-23T18:55:52Z   \n",
       "35053               azad raj  2012-11-23T18:55:04Z  2012-11-23T18:55:04Z   \n",
       "35054        GAGANDEEP JAKHU  2012-11-23T18:47:19Z  2012-11-23T18:47:19Z   \n",
       "35055           tushar tohan  2012-11-23T18:46:49Z  2012-11-23T18:46:49Z   \n",
       "35056              Amar Goud  2012-11-23T18:46:13Z  2012-11-23T18:46:13Z   \n",
       "\n",
       "       like_count                                               text  \n",
       "0         35773.0  This video has entered the Guinness World Reco...  \n",
       "1             0.0                          Life changing seminaar❤❤❤  \n",
       "2             1.0  I watch this complete video years 2023 And you...  \n",
       "3             0.0                   Not the last it&#39;s start... ❤  \n",
       "4             0.0                         Thank you for this seminar  \n",
       "...           ...                                                ...  \n",
       "35052         0.0  kehna aasan hai aur karna, aur bhi aasan hai!!...  \n",
       "35053         0.0                                        thanx sir\\n  \n",
       "35054         0.0                                                 :)  \n",
       "35055         0.0       aasaan hai . thank u for uploading it sir ,   \n",
       "35056         0.0                                     love you sir\\n  \n",
       "\n",
       "[35057 rows x 5 columns]"
      ]
     },
     "execution_count": 4,
     "metadata": {},
     "output_type": "execute_result"
    }
   ],
   "source": [
    "df"
   ]
  },
  {
   "cell_type": "code",
   "execution_count": 5,
   "id": "af519f7b-cd25-4d86-89db-f145205aa330",
   "metadata": {},
   "outputs": [],
   "source": [
    "new_df=df.iloc[:,4:]"
   ]
  },
  {
   "cell_type": "code",
   "execution_count": 6,
   "id": "c6bc38e0-684f-4576-9270-30be3874510b",
   "metadata": {},
   "outputs": [
    {
     "data": {
      "text/plain": [
       "text    25\n",
       "dtype: int64"
      ]
     },
     "execution_count": 6,
     "metadata": {},
     "output_type": "execute_result"
    }
   ],
   "source": [
    " new_df.isnull().sum()"
   ]
  },
  {
   "cell_type": "code",
   "execution_count": 7,
   "id": "e71c5e4b-2ef1-465b-a6e3-567359009d48",
   "metadata": {},
   "outputs": [],
   "source": [
    "new_df=new_df.dropna()"
   ]
  },
  {
   "cell_type": "code",
   "execution_count": 8,
   "id": "fc7b444e-1b10-4164-a347-ace9dbbfe713",
   "metadata": {},
   "outputs": [
    {
     "data": {
      "text/plain": [
       "text    0\n",
       "dtype: int64"
      ]
     },
     "execution_count": 8,
     "metadata": {},
     "output_type": "execute_result"
    }
   ],
   "source": [
    "new_df.isnull().sum()"
   ]
  },
  {
   "cell_type": "code",
   "execution_count": 9,
   "id": "6879b65b-cfbd-4d0e-a5cc-4bcfab985197",
   "metadata": {},
   "outputs": [
    {
     "data": {
      "text/plain": [
       "3746"
      ]
     },
     "execution_count": 9,
     "metadata": {},
     "output_type": "execute_result"
    }
   ],
   "source": [
    "new_df.duplicated().sum()"
   ]
  },
  {
   "cell_type": "code",
   "execution_count": 10,
   "id": "bbe0b07d-4c64-436f-b3e4-af0bb71fff82",
   "metadata": {},
   "outputs": [],
   "source": [
    "new_df=new_df.drop_duplicates()"
   ]
  },
  {
   "cell_type": "code",
   "execution_count": 11,
   "id": "7f7516de-a83b-4df1-bdfa-e55d0ee5f57b",
   "metadata": {},
   "outputs": [
    {
     "data": {
      "text/plain": [
       "0"
      ]
     },
     "execution_count": 11,
     "metadata": {},
     "output_type": "execute_result"
    }
   ],
   "source": [
    "new_df.duplicated().sum()"
   ]
  },
  {
   "cell_type": "code",
   "execution_count": 12,
   "id": "45e5d527-47b8-430a-8733-6cd8d2fc6c1d",
   "metadata": {},
   "outputs": [],
   "source": [
    "new_df=new_df[:20000]"
   ]
  },
  {
   "cell_type": "code",
   "execution_count": 13,
   "id": "2f4de356-04fa-41cb-b113-a6aaa0505d1c",
   "metadata": {},
   "outputs": [],
   "source": [
    "new_column_name = ['reviews']\n",
    "new_df.columns = new_column_name"
   ]
  },
  {
   "cell_type": "code",
   "execution_count": 14,
   "id": "5562c7ed-dbf6-4ffd-b358-6ca63c25069a",
   "metadata": {},
   "outputs": [],
   "source": [
    "#new_df['reviews'] = new_df['reviews'].apply(lambda x: str(x) if pd.notna(x) else '')"
   ]
  },
  {
   "cell_type": "code",
   "execution_count": 15,
   "id": "4b12819d-9f52-45a1-8ec7-2b665bd60fc0",
   "metadata": {},
   "outputs": [
    {
     "data": {
      "text/html": [
       "<div>\n",
       "<style scoped>\n",
       "    .dataframe tbody tr th:only-of-type {\n",
       "        vertical-align: middle;\n",
       "    }\n",
       "\n",
       "    .dataframe tbody tr th {\n",
       "        vertical-align: top;\n",
       "    }\n",
       "\n",
       "    .dataframe thead th {\n",
       "        text-align: right;\n",
       "    }\n",
       "</style>\n",
       "<table border=\"1\" class=\"dataframe\">\n",
       "  <thead>\n",
       "    <tr style=\"text-align: right;\">\n",
       "      <th></th>\n",
       "      <th>reviews</th>\n",
       "    </tr>\n",
       "  </thead>\n",
       "  <tbody>\n",
       "    <tr>\n",
       "      <th>0</th>\n",
       "      <td>This video has entered the Guinness World Reco...</td>\n",
       "    </tr>\n",
       "    <tr>\n",
       "      <th>1</th>\n",
       "      <td>Life changing seminaar❤❤❤</td>\n",
       "    </tr>\n",
       "    <tr>\n",
       "      <th>2</th>\n",
       "      <td>I watch this complete video years 2023 And you...</td>\n",
       "    </tr>\n",
       "    <tr>\n",
       "      <th>3</th>\n",
       "      <td>Not the last it&amp;#39;s start... ❤</td>\n",
       "    </tr>\n",
       "    <tr>\n",
       "      <th>4</th>\n",
       "      <td>Thank you for this seminar</td>\n",
       "    </tr>\n",
       "    <tr>\n",
       "      <th>...</th>\n",
       "      <td>...</td>\n",
       "    </tr>\n",
       "    <tr>\n",
       "      <th>22389</th>\n",
       "      <td>Seriously yar kya banda hai 😍</td>\n",
       "    </tr>\n",
       "    <tr>\n",
       "      <th>22390</th>\n",
       "      <td>Nicely</td>\n",
       "    </tr>\n",
       "    <tr>\n",
       "      <th>22391</th>\n",
       "      <td>Sir apka seminar kha kha hota hi...</td>\n",
       "    </tr>\n",
       "    <tr>\n",
       "      <th>22392</th>\n",
       "      <td>I love you sir bht mast saminar tha. duniya ba...</td>\n",
       "    </tr>\n",
       "    <tr>\n",
       "      <th>22393</th>\n",
       "      <td>Who watching 2 more times?</td>\n",
       "    </tr>\n",
       "  </tbody>\n",
       "</table>\n",
       "<p>20000 rows × 1 columns</p>\n",
       "</div>"
      ],
      "text/plain": [
       "                                                 reviews\n",
       "0      This video has entered the Guinness World Reco...\n",
       "1                              Life changing seminaar❤❤❤\n",
       "2      I watch this complete video years 2023 And you...\n",
       "3                       Not the last it&#39;s start... ❤\n",
       "4                             Thank you for this seminar\n",
       "...                                                  ...\n",
       "22389                      Seriously yar kya banda hai 😍\n",
       "22390                                             Nicely\n",
       "22391                Sir apka seminar kha kha hota hi...\n",
       "22392  I love you sir bht mast saminar tha. duniya ba...\n",
       "22393                         Who watching 2 more times?\n",
       "\n",
       "[20000 rows x 1 columns]"
      ]
     },
     "execution_count": 15,
     "metadata": {},
     "output_type": "execute_result"
    }
   ],
   "source": [
    "new_df"
   ]
  },
  {
   "cell_type": "code",
   "execution_count": 16,
   "id": "c72e794c-2f92-4dfc-baad-78194cf02753",
   "metadata": {},
   "outputs": [],
   "source": [
    "import re\n",
    "def remove_html_tags(text):\n",
    "    #if isinstance(text, str):\n",
    "    pattern=re.compile('<.*?>')\n",
    "    return pattern.sub(r'',text)\n",
    "    #else:\n",
    "    #return text"
   ]
  },
  {
   "cell_type": "code",
   "execution_count": 17,
   "id": "509a658b-9edb-465c-a5a2-16c1d8af156f",
   "metadata": {},
   "outputs": [],
   "source": [
    "def tolowercase(df):\n",
    "    #Convert all string to Lower Case\n",
    "    df['reviews']=df['reviews'].str.lower()\n",
    "    return df\n"
   ]
  },
  {
   "cell_type": "code",
   "execution_count": 18,
   "id": "90a94499-1226-420e-a777-599c5b1f031e",
   "metadata": {},
   "outputs": [],
   "source": [
    "import re\n",
    "def remove_urls(text):\n",
    "     #Remove URLS\n",
    "     #if pd.notna(text) and isinstance(text, str):\n",
    "     pattern=re.compile(r'https?://\\S+|www\\.\\S+')\n",
    "     return pattern.sub(r'',text)"
   ]
  },
  {
   "cell_type": "code",
   "execution_count": 19,
   "id": "86aee5f0-4f6c-4885-9987-3531ac45d252",
   "metadata": {},
   "outputs": [],
   "source": [
    "import string\n",
    "exclude=string.punctuation"
   ]
  },
  {
   "cell_type": "code",
   "execution_count": 20,
   "id": "f313ef0f-ef05-4446-9de5-2ba23c57e5ea",
   "metadata": {},
   "outputs": [],
   "source": [
    "    def remove_punctuation(text):\n",
    "      translator = str.maketrans('', '', string.punctuation)\n",
    "      return text.translate(translator)\n",
    "       "
   ]
  },
  {
   "cell_type": "code",
   "execution_count": 21,
   "id": "ccc41560-2c02-41f4-8727-5151136b67bb",
   "metadata": {},
   "outputs": [],
   "source": [
    "from mtranslate import translate\n",
    "def translation(text):\n",
    "    translated_sentence = translate(text, 'en')\n",
    "    return translated_sentence\n"
   ]
  },
  {
   "cell_type": "code",
   "execution_count": 22,
   "id": "325b3e4d-00aa-455f-a16f-678e246b33ea",
   "metadata": {},
   "outputs": [
    {
     "name": "stderr",
     "output_type": "stream",
     "text": [
      "[nltk_data] Downloading package stopwords to\n",
      "[nltk_data]     C:\\Users\\SNEHA\\AppData\\Roaming\\nltk_data...\n",
      "[nltk_data]   Package stopwords is already up-to-date!\n"
     ]
    },
    {
     "data": {
      "text/plain": [
       "True"
      ]
     },
     "execution_count": 22,
     "metadata": {},
     "output_type": "execute_result"
    }
   ],
   "source": [
    "import nltk\n",
    "from nltk.corpus import stopwords\n",
    "nltk.download('stopwords')"
   ]
  },
  {
   "cell_type": "code",
   "execution_count": 23,
   "id": "c0b27fae-4eb9-4fe0-b9e7-909e735619dd",
   "metadata": {},
   "outputs": [
    {
     "data": {
      "text/html": [
       "<div>\n",
       "<style scoped>\n",
       "    .dataframe tbody tr th:only-of-type {\n",
       "        vertical-align: middle;\n",
       "    }\n",
       "\n",
       "    .dataframe tbody tr th {\n",
       "        vertical-align: top;\n",
       "    }\n",
       "\n",
       "    .dataframe thead th {\n",
       "        text-align: right;\n",
       "    }\n",
       "</style>\n",
       "<table border=\"1\" class=\"dataframe\">\n",
       "  <thead>\n",
       "    <tr style=\"text-align: right;\">\n",
       "      <th></th>\n",
       "      <th>reviews</th>\n",
       "    </tr>\n",
       "  </thead>\n",
       "  <tbody>\n",
       "    <tr>\n",
       "      <th>0</th>\n",
       "      <td>This video has entered the Guinness World Reco...</td>\n",
       "    </tr>\n",
       "    <tr>\n",
       "      <th>1</th>\n",
       "      <td>Life changing seminaar❤❤❤</td>\n",
       "    </tr>\n",
       "    <tr>\n",
       "      <th>2</th>\n",
       "      <td>I watch this complete video years 2023 And you...</td>\n",
       "    </tr>\n",
       "    <tr>\n",
       "      <th>3</th>\n",
       "      <td>Not the last it&amp;#39;s start... ❤</td>\n",
       "    </tr>\n",
       "    <tr>\n",
       "      <th>4</th>\n",
       "      <td>Thank you for this seminar</td>\n",
       "    </tr>\n",
       "    <tr>\n",
       "      <th>5</th>\n",
       "      <td>❤❤इस कलयुग में संत रामपाल जी महाराज ही पूर्ण ग...</td>\n",
       "    </tr>\n",
       "    <tr>\n",
       "      <th>6</th>\n",
       "      <td>Kon kon 2023 mein dekh raha he🤍</td>\n",
       "    </tr>\n",
       "    <tr>\n",
       "      <th>7</th>\n",
       "      <td>&lt;a href=\"https://www.youtube.com/watch?v=eDiA1...</td>\n",
       "    </tr>\n",
       "    <tr>\n",
       "      <th>8</th>\n",
       "      <td>Love that❤❤❤</td>\n",
       "    </tr>\n",
       "    <tr>\n",
       "      <th>9</th>\n",
       "      <td>Kaun kaun 2023 me dekh Raha hai</td>\n",
       "    </tr>\n",
       "    <tr>\n",
       "      <th>10</th>\n",
       "      <td>I learnt life changing things from you sir you...</td>\n",
       "    </tr>\n",
       "    <tr>\n",
       "      <th>11</th>\n",
       "      <td>I love sandeep sir</td>\n",
       "    </tr>\n",
       "    <tr>\n",
       "      <th>12</th>\n",
       "      <td>Mera zxy aaya tha</td>\n",
       "    </tr>\n",
       "    <tr>\n",
       "      <th>13</th>\n",
       "      <td>jo bhi log10 saal se apko dekh rhe hai definit...</td>\n",
       "    </tr>\n",
       "    <tr>\n",
       "      <th>14</th>\n",
       "      <td>Thank you sir</td>\n",
       "    </tr>\n",
       "  </tbody>\n",
       "</table>\n",
       "</div>"
      ],
      "text/plain": [
       "                                              reviews\n",
       "0   This video has entered the Guinness World Reco...\n",
       "1                           Life changing seminaar❤❤❤\n",
       "2   I watch this complete video years 2023 And you...\n",
       "3                    Not the last it&#39;s start... ❤\n",
       "4                          Thank you for this seminar\n",
       "5   ❤❤इस कलयुग में संत रामपाल जी महाराज ही पूर्ण ग...\n",
       "6                     Kon kon 2023 mein dekh raha he🤍\n",
       "7   <a href=\"https://www.youtube.com/watch?v=eDiA1...\n",
       "8                                        Love that❤❤❤\n",
       "9                     Kaun kaun 2023 me dekh Raha hai\n",
       "10  I learnt life changing things from you sir you...\n",
       "11                                 I love sandeep sir\n",
       "12                                  Mera zxy aaya tha\n",
       "13  jo bhi log10 saal se apko dekh rhe hai definit...\n",
       "14                                      Thank you sir"
      ]
     },
     "execution_count": 23,
     "metadata": {},
     "output_type": "execute_result"
    }
   ],
   "source": [
    "new_df.head(15)"
   ]
  },
  {
   "cell_type": "code",
   "execution_count": 24,
   "id": "ddc0c453-f74a-49b7-9d42-c48e2d1cb39f",
   "metadata": {},
   "outputs": [],
   "source": [
    "def remove_numbers(text):\n",
    "    return re.sub(r'\\d+','',text)"
   ]
  },
  {
   "cell_type": "code",
   "execution_count": 25,
   "id": "adc1adac-0c14-4545-a573-600541d35cce",
   "metadata": {},
   "outputs": [],
   "source": [
    "    def preprocess_text(df):\n",
    "         df['reviews']=df['reviews'].apply(remove_html_tags)\n",
    "         df=tolowercase(df)\n",
    "         df['reviews']= df['reviews'].apply(remove_urls)\n",
    "        \n",
    "         df['reviews']=df['reviews'].apply(remove_punctuation)\n",
    "         sw_list=stopwords.words('english')\n",
    "         #df['reviews']=df['reviews'].apply(translation)\n",
    "         df['reviews'] = df['reviews'].apply(lambda x: [item for item in x.split() if item not in sw_list]).apply(lambda x:\" \".join(x))\n",
    "         return df"
   ]
  },
  {
   "cell_type": "code",
   "execution_count": 26,
   "id": "ff11b600-da5d-473e-a702-097cddb4188a",
   "metadata": {},
   "outputs": [],
   "source": [
    "preprocessed_test_df=preprocess_text(new_df)"
   ]
  },
  {
   "cell_type": "code",
   "execution_count": 27,
   "id": "577b3ac3-08d2-49c9-889e-c47fce64c9ce",
   "metadata": {},
   "outputs": [
    {
     "data": {
      "text/html": [
       "<div>\n",
       "<style scoped>\n",
       "    .dataframe tbody tr th:only-of-type {\n",
       "        vertical-align: middle;\n",
       "    }\n",
       "\n",
       "    .dataframe tbody tr th {\n",
       "        vertical-align: top;\n",
       "    }\n",
       "\n",
       "    .dataframe thead th {\n",
       "        text-align: right;\n",
       "    }\n",
       "</style>\n",
       "<table border=\"1\" class=\"dataframe\">\n",
       "  <thead>\n",
       "    <tr style=\"text-align: right;\">\n",
       "      <th></th>\n",
       "      <th>reviews</th>\n",
       "    </tr>\n",
       "  </thead>\n",
       "  <tbody>\n",
       "    <tr>\n",
       "      <th>0</th>\n",
       "      <td>video entered guinness world records world39s ...</td>\n",
       "    </tr>\n",
       "    <tr>\n",
       "      <th>1</th>\n",
       "      <td>life changing seminaar❤❤❤</td>\n",
       "    </tr>\n",
       "    <tr>\n",
       "      <th>2</th>\n",
       "      <td>watch complete video years 2023 guys</td>\n",
       "    </tr>\n",
       "    <tr>\n",
       "      <th>3</th>\n",
       "      <td>last it39s start ❤</td>\n",
       "    </tr>\n",
       "    <tr>\n",
       "      <th>4</th>\n",
       "      <td>thank seminar</td>\n",
       "    </tr>\n",
       "    <tr>\n",
       "      <th>...</th>\n",
       "      <td>...</td>\n",
       "    </tr>\n",
       "    <tr>\n",
       "      <th>22389</th>\n",
       "      <td>seriously yar kya banda hai 😍</td>\n",
       "    </tr>\n",
       "    <tr>\n",
       "      <th>22390</th>\n",
       "      <td>nicely</td>\n",
       "    </tr>\n",
       "    <tr>\n",
       "      <th>22391</th>\n",
       "      <td>sir apka seminar kha kha hota hi</td>\n",
       "    </tr>\n",
       "    <tr>\n",
       "      <th>22392</th>\n",
       "      <td>love sir bht mast saminar tha duniya badlegi j...</td>\n",
       "    </tr>\n",
       "    <tr>\n",
       "      <th>22393</th>\n",
       "      <td>watching 2 times</td>\n",
       "    </tr>\n",
       "  </tbody>\n",
       "</table>\n",
       "<p>20000 rows × 1 columns</p>\n",
       "</div>"
      ],
      "text/plain": [
       "                                                 reviews\n",
       "0      video entered guinness world records world39s ...\n",
       "1                              life changing seminaar❤❤❤\n",
       "2                   watch complete video years 2023 guys\n",
       "3                                     last it39s start ❤\n",
       "4                                          thank seminar\n",
       "...                                                  ...\n",
       "22389                      seriously yar kya banda hai 😍\n",
       "22390                                             nicely\n",
       "22391                   sir apka seminar kha kha hota hi\n",
       "22392  love sir bht mast saminar tha duniya badlegi j...\n",
       "22393                                   watching 2 times\n",
       "\n",
       "[20000 rows x 1 columns]"
      ]
     },
     "execution_count": 27,
     "metadata": {},
     "output_type": "execute_result"
    }
   ],
   "source": [
    "preprocessed_test_df"
   ]
  },
  {
   "cell_type": "code",
   "execution_count": 28,
   "id": "4653660b-4349-4423-87b2-71cfd893d5cf",
   "metadata": {
    "scrolled": true
   },
   "outputs": [
    {
     "name": "stdout",
     "output_type": "stream",
     "text": [
      "['C:\\\\Users\\\\SNEHA/nltk_data', 'C:\\\\Users\\\\SNEHA\\\\AppData\\\\Local\\\\Programs\\\\Python\\\\Python311\\\\nltk_data', 'C:\\\\Users\\\\SNEHA\\\\AppData\\\\Local\\\\Programs\\\\Python\\\\Python311\\\\share\\\\nltk_data', 'C:\\\\Users\\\\SNEHA\\\\AppData\\\\Local\\\\Programs\\\\Python\\\\Python311\\\\lib\\\\nltk_data', 'C:\\\\Users\\\\SNEHA\\\\AppData\\\\Roaming\\\\nltk_data', 'C:\\\\nltk_data', 'D:\\\\nltk_data', 'E:\\\\nltk_data']\n"
     ]
    }
   ],
   "source": [
    "import nltk.data\n",
    "print(nltk.data.path)"
   ]
  },
  {
   "cell_type": "code",
   "execution_count": 29,
   "id": "7061f5e8-6ab2-4c65-8b60-5f8de2be7517",
   "metadata": {},
   "outputs": [],
   "source": [
    "nltk.data.path.append('C:\\\\Users\\\\SNEHA/nltk_data')"
   ]
  },
  {
   "cell_type": "code",
   "execution_count": 30,
   "id": "3ec66eb6-b8dd-4f60-bbf3-e25392d1ddae",
   "metadata": {},
   "outputs": [
    {
     "name": "stderr",
     "output_type": "stream",
     "text": [
      "[nltk_data] Downloading package vader_lexicon to\n",
      "[nltk_data]     C:\\Users\\SNEHA\\AppData\\Roaming\\nltk_data...\n",
      "[nltk_data]   Package vader_lexicon is already up-to-date!\n"
     ]
    },
    {
     "data": {
      "text/plain": [
       "True"
      ]
     },
     "execution_count": 30,
     "metadata": {},
     "output_type": "execute_result"
    }
   ],
   "source": [
    "import nltk\n",
    "nltk.download('vader_lexicon')"
   ]
  },
  {
   "cell_type": "code",
   "execution_count": 31,
   "id": "0a273ba6-e6c6-47ea-9625-df99876e67a5",
   "metadata": {},
   "outputs": [],
   "source": [
    "from nltk.sentiment.vader import SentimentIntensityAnalyzer\n",
    "sia=SentimentIntensityAnalyzer()\n",
    "results=[]\n",
    "for line in preprocessed_test_df['reviews']:\n",
    "  pol_score=sia.polarity_scores(line)\n",
    "  pol_score['reviews']= line\n",
    "  results.append(pol_score)"
   ]
  },
  {
   "cell_type": "code",
   "execution_count": 32,
   "id": "fc58ef5a-a1ac-4e3e-baaf-dc12263f6e58",
   "metadata": {},
   "outputs": [],
   "source": [
    "label_df=pd.DataFrame.from_records(results)"
   ]
  },
  {
   "cell_type": "code",
   "execution_count": 33,
   "id": "f52ca341-f363-44b8-9768-a4b39dd52bdd",
   "metadata": {},
   "outputs": [
    {
     "data": {
      "text/html": [
       "<div>\n",
       "<style scoped>\n",
       "    .dataframe tbody tr th:only-of-type {\n",
       "        vertical-align: middle;\n",
       "    }\n",
       "\n",
       "    .dataframe tbody tr th {\n",
       "        vertical-align: top;\n",
       "    }\n",
       "\n",
       "    .dataframe thead th {\n",
       "        text-align: right;\n",
       "    }\n",
       "</style>\n",
       "<table border=\"1\" class=\"dataframe\">\n",
       "  <thead>\n",
       "    <tr style=\"text-align: right;\">\n",
       "      <th></th>\n",
       "      <th>neg</th>\n",
       "      <th>neu</th>\n",
       "      <th>pos</th>\n",
       "      <th>compound</th>\n",
       "      <th>reviews</th>\n",
       "    </tr>\n",
       "  </thead>\n",
       "  <tbody>\n",
       "    <tr>\n",
       "      <th>0</th>\n",
       "      <td>0.0</td>\n",
       "      <td>0.780</td>\n",
       "      <td>0.220</td>\n",
       "      <td>0.4767</td>\n",
       "      <td>video entered guinness world records world39s ...</td>\n",
       "    </tr>\n",
       "    <tr>\n",
       "      <th>1</th>\n",
       "      <td>0.0</td>\n",
       "      <td>1.000</td>\n",
       "      <td>0.000</td>\n",
       "      <td>0.0000</td>\n",
       "      <td>life changing seminaar❤❤❤</td>\n",
       "    </tr>\n",
       "    <tr>\n",
       "      <th>2</th>\n",
       "      <td>0.0</td>\n",
       "      <td>1.000</td>\n",
       "      <td>0.000</td>\n",
       "      <td>0.0000</td>\n",
       "      <td>watch complete video years 2023 guys</td>\n",
       "    </tr>\n",
       "    <tr>\n",
       "      <th>3</th>\n",
       "      <td>0.0</td>\n",
       "      <td>1.000</td>\n",
       "      <td>0.000</td>\n",
       "      <td>0.0000</td>\n",
       "      <td>last it39s start ❤</td>\n",
       "    </tr>\n",
       "    <tr>\n",
       "      <th>4</th>\n",
       "      <td>0.0</td>\n",
       "      <td>0.286</td>\n",
       "      <td>0.714</td>\n",
       "      <td>0.3612</td>\n",
       "      <td>thank seminar</td>\n",
       "    </tr>\n",
       "  </tbody>\n",
       "</table>\n",
       "</div>"
      ],
      "text/plain": [
       "   neg    neu    pos  compound  \\\n",
       "0  0.0  0.780  0.220    0.4767   \n",
       "1  0.0  1.000  0.000    0.0000   \n",
       "2  0.0  1.000  0.000    0.0000   \n",
       "3  0.0  1.000  0.000    0.0000   \n",
       "4  0.0  0.286  0.714    0.3612   \n",
       "\n",
       "                                             reviews  \n",
       "0  video entered guinness world records world39s ...  \n",
       "1                          life changing seminaar❤❤❤  \n",
       "2               watch complete video years 2023 guys  \n",
       "3                                 last it39s start ❤  \n",
       "4                                      thank seminar  "
      ]
     },
     "execution_count": 33,
     "metadata": {},
     "output_type": "execute_result"
    }
   ],
   "source": [
    "label_df.head()"
   ]
  },
  {
   "cell_type": "code",
   "execution_count": 34,
   "id": "4f48e9bf-660c-4b28-af7e-fa7349a603de",
   "metadata": {},
   "outputs": [],
   "source": [
    "label_df['label']=0\n",
    "label_df.loc[label_df['compound']>0.2, 'label']=1\n",
    "label_df.loc[label_df['compound']<-0.2, 'label']=-1"
   ]
  },
  {
   "cell_type": "code",
   "execution_count": 35,
   "id": "e56e7712-de45-4ab0-b6d3-ec1a99f0a0f7",
   "metadata": {},
   "outputs": [
    {
     "data": {
      "text/html": [
       "<div>\n",
       "<style scoped>\n",
       "    .dataframe tbody tr th:only-of-type {\n",
       "        vertical-align: middle;\n",
       "    }\n",
       "\n",
       "    .dataframe tbody tr th {\n",
       "        vertical-align: top;\n",
       "    }\n",
       "\n",
       "    .dataframe thead th {\n",
       "        text-align: right;\n",
       "    }\n",
       "</style>\n",
       "<table border=\"1\" class=\"dataframe\">\n",
       "  <thead>\n",
       "    <tr style=\"text-align: right;\">\n",
       "      <th></th>\n",
       "      <th>neg</th>\n",
       "      <th>neu</th>\n",
       "      <th>pos</th>\n",
       "      <th>compound</th>\n",
       "      <th>reviews</th>\n",
       "      <th>label</th>\n",
       "    </tr>\n",
       "  </thead>\n",
       "  <tbody>\n",
       "    <tr>\n",
       "      <th>0</th>\n",
       "      <td>0.0</td>\n",
       "      <td>0.780</td>\n",
       "      <td>0.220</td>\n",
       "      <td>0.4767</td>\n",
       "      <td>video entered guinness world records world39s ...</td>\n",
       "      <td>1</td>\n",
       "    </tr>\n",
       "    <tr>\n",
       "      <th>1</th>\n",
       "      <td>0.0</td>\n",
       "      <td>1.000</td>\n",
       "      <td>0.000</td>\n",
       "      <td>0.0000</td>\n",
       "      <td>life changing seminaar❤❤❤</td>\n",
       "      <td>0</td>\n",
       "    </tr>\n",
       "    <tr>\n",
       "      <th>2</th>\n",
       "      <td>0.0</td>\n",
       "      <td>1.000</td>\n",
       "      <td>0.000</td>\n",
       "      <td>0.0000</td>\n",
       "      <td>watch complete video years 2023 guys</td>\n",
       "      <td>0</td>\n",
       "    </tr>\n",
       "    <tr>\n",
       "      <th>3</th>\n",
       "      <td>0.0</td>\n",
       "      <td>1.000</td>\n",
       "      <td>0.000</td>\n",
       "      <td>0.0000</td>\n",
       "      <td>last it39s start ❤</td>\n",
       "      <td>0</td>\n",
       "    </tr>\n",
       "    <tr>\n",
       "      <th>4</th>\n",
       "      <td>0.0</td>\n",
       "      <td>0.286</td>\n",
       "      <td>0.714</td>\n",
       "      <td>0.3612</td>\n",
       "      <td>thank seminar</td>\n",
       "      <td>1</td>\n",
       "    </tr>\n",
       "  </tbody>\n",
       "</table>\n",
       "</div>"
      ],
      "text/plain": [
       "   neg    neu    pos  compound  \\\n",
       "0  0.0  0.780  0.220    0.4767   \n",
       "1  0.0  1.000  0.000    0.0000   \n",
       "2  0.0  1.000  0.000    0.0000   \n",
       "3  0.0  1.000  0.000    0.0000   \n",
       "4  0.0  0.286  0.714    0.3612   \n",
       "\n",
       "                                             reviews  label  \n",
       "0  video entered guinness world records world39s ...      1  \n",
       "1                          life changing seminaar❤❤❤      0  \n",
       "2               watch complete video years 2023 guys      0  \n",
       "3                                 last it39s start ❤      0  \n",
       "4                                      thank seminar      1  "
      ]
     },
     "execution_count": 35,
     "metadata": {},
     "output_type": "execute_result"
    }
   ],
   "source": [
    "label_df.head()"
   ]
  },
  {
   "cell_type": "code",
   "execution_count": 36,
   "id": "6af9543c-3e94-482e-aa6e-b5752eb7c0de",
   "metadata": {},
   "outputs": [],
   "source": [
    "label_df=label_df.iloc[:,4:]"
   ]
  },
  {
   "cell_type": "code",
   "execution_count": 37,
   "id": "6bfdc490-dc8e-45b8-b870-6e0a7bf50dea",
   "metadata": {},
   "outputs": [
    {
     "data": {
      "text/html": [
       "<div>\n",
       "<style scoped>\n",
       "    .dataframe tbody tr th:only-of-type {\n",
       "        vertical-align: middle;\n",
       "    }\n",
       "\n",
       "    .dataframe tbody tr th {\n",
       "        vertical-align: top;\n",
       "    }\n",
       "\n",
       "    .dataframe thead th {\n",
       "        text-align: right;\n",
       "    }\n",
       "</style>\n",
       "<table border=\"1\" class=\"dataframe\">\n",
       "  <thead>\n",
       "    <tr style=\"text-align: right;\">\n",
       "      <th></th>\n",
       "      <th>reviews</th>\n",
       "      <th>label</th>\n",
       "    </tr>\n",
       "  </thead>\n",
       "  <tbody>\n",
       "    <tr>\n",
       "      <th>0</th>\n",
       "      <td>video entered guinness world records world39s ...</td>\n",
       "      <td>1</td>\n",
       "    </tr>\n",
       "    <tr>\n",
       "      <th>1</th>\n",
       "      <td>life changing seminaar❤❤❤</td>\n",
       "      <td>0</td>\n",
       "    </tr>\n",
       "    <tr>\n",
       "      <th>2</th>\n",
       "      <td>watch complete video years 2023 guys</td>\n",
       "      <td>0</td>\n",
       "    </tr>\n",
       "    <tr>\n",
       "      <th>3</th>\n",
       "      <td>last it39s start ❤</td>\n",
       "      <td>0</td>\n",
       "    </tr>\n",
       "    <tr>\n",
       "      <th>4</th>\n",
       "      <td>thank seminar</td>\n",
       "      <td>1</td>\n",
       "    </tr>\n",
       "    <tr>\n",
       "      <th>...</th>\n",
       "      <td>...</td>\n",
       "      <td>...</td>\n",
       "    </tr>\n",
       "    <tr>\n",
       "      <th>19995</th>\n",
       "      <td>seriously yar kya banda hai 😍</td>\n",
       "      <td>0</td>\n",
       "    </tr>\n",
       "    <tr>\n",
       "      <th>19996</th>\n",
       "      <td>nicely</td>\n",
       "      <td>1</td>\n",
       "    </tr>\n",
       "    <tr>\n",
       "      <th>19997</th>\n",
       "      <td>sir apka seminar kha kha hota hi</td>\n",
       "      <td>0</td>\n",
       "    </tr>\n",
       "    <tr>\n",
       "      <th>19998</th>\n",
       "      <td>love sir bht mast saminar tha duniya badlegi j...</td>\n",
       "      <td>1</td>\n",
       "    </tr>\n",
       "    <tr>\n",
       "      <th>19999</th>\n",
       "      <td>watching 2 times</td>\n",
       "      <td>0</td>\n",
       "    </tr>\n",
       "  </tbody>\n",
       "</table>\n",
       "<p>20000 rows × 2 columns</p>\n",
       "</div>"
      ],
      "text/plain": [
       "                                                 reviews  label\n",
       "0      video entered guinness world records world39s ...      1\n",
       "1                              life changing seminaar❤❤❤      0\n",
       "2                   watch complete video years 2023 guys      0\n",
       "3                                     last it39s start ❤      0\n",
       "4                                          thank seminar      1\n",
       "...                                                  ...    ...\n",
       "19995                      seriously yar kya banda hai 😍      0\n",
       "19996                                             nicely      1\n",
       "19997                   sir apka seminar kha kha hota hi      0\n",
       "19998  love sir bht mast saminar tha duniya badlegi j...      1\n",
       "19999                                   watching 2 times      0\n",
       "\n",
       "[20000 rows x 2 columns]"
      ]
     },
     "execution_count": 37,
     "metadata": {},
     "output_type": "execute_result"
    }
   ],
   "source": [
    "label_df"
   ]
  },
  {
   "cell_type": "code",
   "execution_count": 38,
   "id": "ae132121-3bf0-425e-8af0-482945760e78",
   "metadata": {},
   "outputs": [],
   "source": [
    "from sklearn.model_selection import train_test_split\n",
    "from sklearn.feature_extraction.text import CountVectorizer\n",
    "from sklearn.ensemble import RandomForestClassifier\n",
    "from sklearn.metrics import accuracy_score,confusion_matrix"
   ]
  },
  {
   "cell_type": "code",
   "execution_count": 39,
   "id": "b06ddc92-9086-4da4-a2d5-abac8ec7aaff",
   "metadata": {},
   "outputs": [],
   "source": [
    "# import random\n",
    "# def word_shuffle(text, n=1):\n",
    "#     words=text.split()\n",
    "#     for _ in range(n):\n",
    "#         random.shuffle(words)\n",
    "#     return ''.join(words)"
   ]
  },
  {
   "cell_type": "code",
   "execution_count": 40,
   "id": "a4f03ef2-aada-4929-b2dd-d3ea22e3d272",
   "metadata": {},
   "outputs": [],
   "source": [
    "# augmented_df=[word_shuffle(text, n=100) for text in label_df]\n",
    "# #combined_df=label_df+augmented_df"
   ]
  },
  {
   "cell_type": "code",
   "execution_count": 41,
   "id": "bfabbe29-6da2-4cd4-a8ad-8f7a31a2df29",
   "metadata": {},
   "outputs": [],
   "source": [
    "# augmented_df"
   ]
  },
  {
   "cell_type": "code",
   "execution_count": 42,
   "id": "31e41f57-3f0a-4681-9739-c552cd0166d3",
   "metadata": {},
   "outputs": [],
   "source": [
    "X=label_df.iloc[:,0:1]\n",
    "Y=label_df['label']"
   ]
  },
  {
   "cell_type": "code",
   "execution_count": 43,
   "id": "6137cbab-e385-4304-bdfa-89c0b409f7ce",
   "metadata": {},
   "outputs": [],
   "source": [
    "X_train,X_test,Y_train,Y_test=train_test_split(X,Y,test_size=0.2,random_state=35)"
   ]
  },
  {
   "cell_type": "code",
   "execution_count": 44,
   "id": "f114059a-697a-4b27-8bbb-d7b3d92fbea2",
   "metadata": {},
   "outputs": [
    {
     "data": {
      "text/plain": [
       "(16000, 1)"
      ]
     },
     "execution_count": 44,
     "metadata": {},
     "output_type": "execute_result"
    }
   ],
   "source": [
    "X_train.shape"
   ]
  },
  {
   "cell_type": "code",
   "execution_count": 45,
   "id": "104e660c-1833-4b9d-9f8c-56649091d467",
   "metadata": {},
   "outputs": [
    {
     "data": {
      "text/html": [
       "<div>\n",
       "<style scoped>\n",
       "    .dataframe tbody tr th:only-of-type {\n",
       "        vertical-align: middle;\n",
       "    }\n",
       "\n",
       "    .dataframe tbody tr th {\n",
       "        vertical-align: top;\n",
       "    }\n",
       "\n",
       "    .dataframe thead th {\n",
       "        text-align: right;\n",
       "    }\n",
       "</style>\n",
       "<table border=\"1\" class=\"dataframe\">\n",
       "  <thead>\n",
       "    <tr style=\"text-align: right;\">\n",
       "      <th></th>\n",
       "      <th>reviews</th>\n",
       "    </tr>\n",
       "  </thead>\n",
       "  <tbody>\n",
       "    <tr>\n",
       "      <th>3652</th>\n",
       "      <td>2022 october</td>\n",
       "    </tr>\n",
       "    <tr>\n",
       "      <th>53</th>\n",
       "      <td>watching 2023 ❤❤❤❤👉👉👉👉</td>\n",
       "    </tr>\n",
       "    <tr>\n",
       "      <th>8195</th>\n",
       "      <td>sir es dunia mein koe bhuka nhi soega kuyki aa...</td>\n",
       "    </tr>\n",
       "    <tr>\n",
       "      <th>8015</th>\n",
       "      <td>love sir 🙏🙏🙏</td>\n",
       "    </tr>\n",
       "    <tr>\n",
       "      <th>10560</th>\n",
       "      <td>bollywood please make film called sandeep mahe...</td>\n",
       "    </tr>\n",
       "    <tr>\n",
       "      <th>...</th>\n",
       "      <td>...</td>\n",
       "    </tr>\n",
       "    <tr>\n",
       "      <th>19391</th>\n",
       "      <td>91 k dislike kisne kiye</td>\n",
       "    </tr>\n",
       "    <tr>\n",
       "      <th>15393</th>\n",
       "      <td>प्लीज आप मेरा यूट्यूब चैनल सब्सक्राइब कर दोमैं...</td>\n",
       "    </tr>\n",
       "    <tr>\n",
       "      <th>9143</th>\n",
       "      <td>congratulations sir ji 😁🌹💪👍</td>\n",
       "    </tr>\n",
       "    <tr>\n",
       "      <th>17679</th>\n",
       "      <td>right sir 100me se 100right</td>\n",
       "    </tr>\n",
       "    <tr>\n",
       "      <th>5833</th>\n",
       "      <td>respect sir</td>\n",
       "    </tr>\n",
       "  </tbody>\n",
       "</table>\n",
       "<p>16000 rows × 1 columns</p>\n",
       "</div>"
      ],
      "text/plain": [
       "                                                 reviews\n",
       "3652                                        2022 october\n",
       "53                                watching 2023 ❤❤❤❤👉👉👉👉\n",
       "8195   sir es dunia mein koe bhuka nhi soega kuyki aa...\n",
       "8015                                        love sir 🙏🙏🙏\n",
       "10560  bollywood please make film called sandeep mahe...\n",
       "...                                                  ...\n",
       "19391                            91 k dislike kisne kiye\n",
       "15393  प्लीज आप मेरा यूट्यूब चैनल सब्सक्राइब कर दोमैं...\n",
       "9143                         congratulations sir ji 😁🌹💪👍\n",
       "17679                        right sir 100me se 100right\n",
       "5833                                         respect sir\n",
       "\n",
       "[16000 rows x 1 columns]"
      ]
     },
     "execution_count": 45,
     "metadata": {},
     "output_type": "execute_result"
    }
   ],
   "source": [
    "X_train"
   ]
  },
  {
   "cell_type": "code",
   "execution_count": 46,
   "id": "06d36d81-19a4-4b48-b890-59c97e239a1b",
   "metadata": {},
   "outputs": [
    {
     "data": {
      "text/plain": [
       "(4000, 1)"
      ]
     },
     "execution_count": 46,
     "metadata": {},
     "output_type": "execute_result"
    }
   ],
   "source": [
    "X_test.shape"
   ]
  },
  {
   "cell_type": "code",
   "execution_count": 47,
   "id": "cea50b34-55d9-4458-9717-330e3ec2663c",
   "metadata": {},
   "outputs": [],
   "source": [
    "cv=CountVectorizer()"
   ]
  },
  {
   "cell_type": "code",
   "execution_count": 48,
   "id": "16a38057-9dbb-4f6a-95da-114134511662",
   "metadata": {},
   "outputs": [],
   "source": [
    "X_train_bow = cv.fit_transform(X_train['reviews'].values.astype('U')).toarray()\n",
    "import joblib\n",
    "joblib.dump(cv, \"vectorizer_1.pkl\")\n",
    "X_test_bow=cv.transform(X_test['reviews']).toarray()"
   ]
  },
  {
   "cell_type": "code",
   "execution_count": 49,
   "id": "2e3c5f72-347f-4cc1-a3ac-28976518e740",
   "metadata": {},
   "outputs": [
    {
     "data": {
      "text/html": [
       "<style>#sk-container-id-1 {color: black;}#sk-container-id-1 pre{padding: 0;}#sk-container-id-1 div.sk-toggleable {background-color: white;}#sk-container-id-1 label.sk-toggleable__label {cursor: pointer;display: block;width: 100%;margin-bottom: 0;padding: 0.3em;box-sizing: border-box;text-align: center;}#sk-container-id-1 label.sk-toggleable__label-arrow:before {content: \"▸\";float: left;margin-right: 0.25em;color: #696969;}#sk-container-id-1 label.sk-toggleable__label-arrow:hover:before {color: black;}#sk-container-id-1 div.sk-estimator:hover label.sk-toggleable__label-arrow:before {color: black;}#sk-container-id-1 div.sk-toggleable__content {max-height: 0;max-width: 0;overflow: hidden;text-align: left;background-color: #f0f8ff;}#sk-container-id-1 div.sk-toggleable__content pre {margin: 0.2em;color: black;border-radius: 0.25em;background-color: #f0f8ff;}#sk-container-id-1 input.sk-toggleable__control:checked~div.sk-toggleable__content {max-height: 200px;max-width: 100%;overflow: auto;}#sk-container-id-1 input.sk-toggleable__control:checked~label.sk-toggleable__label-arrow:before {content: \"▾\";}#sk-container-id-1 div.sk-estimator input.sk-toggleable__control:checked~label.sk-toggleable__label {background-color: #d4ebff;}#sk-container-id-1 div.sk-label input.sk-toggleable__control:checked~label.sk-toggleable__label {background-color: #d4ebff;}#sk-container-id-1 input.sk-hidden--visually {border: 0;clip: rect(1px 1px 1px 1px);clip: rect(1px, 1px, 1px, 1px);height: 1px;margin: -1px;overflow: hidden;padding: 0;position: absolute;width: 1px;}#sk-container-id-1 div.sk-estimator {font-family: monospace;background-color: #f0f8ff;border: 1px dotted black;border-radius: 0.25em;box-sizing: border-box;margin-bottom: 0.5em;}#sk-container-id-1 div.sk-estimator:hover {background-color: #d4ebff;}#sk-container-id-1 div.sk-parallel-item::after {content: \"\";width: 100%;border-bottom: 1px solid gray;flex-grow: 1;}#sk-container-id-1 div.sk-label:hover label.sk-toggleable__label {background-color: #d4ebff;}#sk-container-id-1 div.sk-serial::before {content: \"\";position: absolute;border-left: 1px solid gray;box-sizing: border-box;top: 0;bottom: 0;left: 50%;z-index: 0;}#sk-container-id-1 div.sk-serial {display: flex;flex-direction: column;align-items: center;background-color: white;padding-right: 0.2em;padding-left: 0.2em;position: relative;}#sk-container-id-1 div.sk-item {position: relative;z-index: 1;}#sk-container-id-1 div.sk-parallel {display: flex;align-items: stretch;justify-content: center;background-color: white;position: relative;}#sk-container-id-1 div.sk-item::before, #sk-container-id-1 div.sk-parallel-item::before {content: \"\";position: absolute;border-left: 1px solid gray;box-sizing: border-box;top: 0;bottom: 0;left: 50%;z-index: -1;}#sk-container-id-1 div.sk-parallel-item {display: flex;flex-direction: column;z-index: 1;position: relative;background-color: white;}#sk-container-id-1 div.sk-parallel-item:first-child::after {align-self: flex-end;width: 50%;}#sk-container-id-1 div.sk-parallel-item:last-child::after {align-self: flex-start;width: 50%;}#sk-container-id-1 div.sk-parallel-item:only-child::after {width: 0;}#sk-container-id-1 div.sk-dashed-wrapped {border: 1px dashed gray;margin: 0 0.4em 0.5em 0.4em;box-sizing: border-box;padding-bottom: 0.4em;background-color: white;}#sk-container-id-1 div.sk-label label {font-family: monospace;font-weight: bold;display: inline-block;line-height: 1.2em;}#sk-container-id-1 div.sk-label-container {text-align: center;}#sk-container-id-1 div.sk-container {/* jupyter's `normalize.less` sets `[hidden] { display: none; }` but bootstrap.min.css set `[hidden] { display: none !important; }` so we also need the `!important` here to be able to override the default hidden behavior on the sphinx rendered scikit-learn.org. See: https://github.com/scikit-learn/scikit-learn/issues/21755 */display: inline-block !important;position: relative;}#sk-container-id-1 div.sk-text-repr-fallback {display: none;}</style><div id=\"sk-container-id-1\" class=\"sk-top-container\"><div class=\"sk-text-repr-fallback\"><pre>RandomForestClassifier()</pre><b>In a Jupyter environment, please rerun this cell to show the HTML representation or trust the notebook. <br />On GitHub, the HTML representation is unable to render, please try loading this page with nbviewer.org.</b></div><div class=\"sk-container\" hidden><div class=\"sk-item\"><div class=\"sk-estimator sk-toggleable\"><input class=\"sk-toggleable__control sk-hidden--visually\" id=\"sk-estimator-id-1\" type=\"checkbox\" checked><label for=\"sk-estimator-id-1\" class=\"sk-toggleable__label sk-toggleable__label-arrow\">RandomForestClassifier</label><div class=\"sk-toggleable__content\"><pre>RandomForestClassifier()</pre></div></div></div></div></div>"
      ],
      "text/plain": [
       "RandomForestClassifier()"
      ]
     },
     "execution_count": 49,
     "metadata": {},
     "output_type": "execute_result"
    }
   ],
   "source": [
    "model=RandomForestClassifier()\n",
    "model.fit(X_train_bow, Y_train)"
   ]
  },
  {
   "cell_type": "code",
   "execution_count": 50,
   "id": "e8b752d4-5715-45fe-8c8d-39147d1a4c44",
   "metadata": {},
   "outputs": [
    {
     "data": {
      "text/plain": [
       "91.225"
      ]
     },
     "execution_count": 50,
     "metadata": {},
     "output_type": "execute_result"
    }
   ],
   "source": [
    "Y_pred=model.predict(X_test_bow)\n",
    "accuracy_score(Y_test, Y_pred)*100"
   ]
  },
  {
   "cell_type": "code",
   "execution_count": 51,
   "id": "e3c734bb-a53a-43ce-8d6d-988684903952",
   "metadata": {},
   "outputs": [],
   "source": [
    "import pickle"
   ]
  },
  {
   "cell_type": "code",
   "execution_count": 52,
   "id": "a375f4c9-33e9-46af-a339-8f02897a9429",
   "metadata": {},
   "outputs": [],
   "source": [
    "with open('model_test_1.pkl','wb') as file:\n",
    "  pickle.dump(model, file)"
   ]
  },
  {
   "cell_type": "code",
   "execution_count": 53,
   "id": "4d44deb9-be53-4282-a63f-e5d585794ac9",
   "metadata": {},
   "outputs": [
    {
     "data": {
      "text/plain": [
       "array([1, 0, 1, ..., 0, 1, 1], dtype=int64)"
      ]
     },
     "execution_count": 53,
     "metadata": {},
     "output_type": "execute_result"
    }
   ],
   "source": [
    "Y_pred"
   ]
  },
  {
   "cell_type": "code",
   "execution_count": null,
   "id": "f8481353-c1d0-4696-9fa8-0bd469b870cb",
   "metadata": {},
   "outputs": [],
   "source": []
  }
 ],
 "metadata": {
  "kernelspec": {
   "display_name": "Python 3 (ipykernel)",
   "language": "python",
   "name": "python3"
  },
  "language_info": {
   "codemirror_mode": {
    "name": "ipython",
    "version": 3
   },
   "file_extension": ".py",
   "mimetype": "text/x-python",
   "name": "python",
   "nbconvert_exporter": "python",
   "pygments_lexer": "ipython3",
   "version": "3.11.5"
  }
 },
 "nbformat": 4,
 "nbformat_minor": 5
}
